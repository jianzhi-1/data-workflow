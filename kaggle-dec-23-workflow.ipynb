{
 "cells": [
  {
   "cell_type": "markdown",
   "id": "94162db5",
   "metadata": {},
   "source": [
    "# Kaggle Dec 23 Workflow"
   ]
  },
  {
   "cell_type": "markdown",
   "id": "702ce758",
   "metadata": {},
   "source": [
    "### Imports"
   ]
  },
  {
   "cell_type": "code",
   "execution_count": 1,
   "id": "fc1ad2eb",
   "metadata": {},
   "outputs": [],
   "source": [
    "%matplotlib inline\n",
    "import numpy as np\n",
    "import scipy\n",
    "import pandas as pd\n",
    "import matplotlib.pyplot as plt\n",
    "import seaborn as sns\n",
    "from numpy import genfromtxt\n",
    "from scipy.optimize import linprog # matrix inverse\n",
    "from scipy.special import gamma, loggamma # model selection\n",
    "from scipy import stats # t-distribution\n",
    "from sklearn.model_selection import train_test_split\n",
    "from sklearn.metrics import log_loss\n",
    "from xgboost import XGBClassifier\n",
    "# import warnings\n",
    "# warnings.filterwarnings('ignore')"
   ]
  },
  {
   "cell_type": "markdown",
   "id": "7afe271a",
   "metadata": {},
   "source": [
    "### EDA"
   ]
  },
  {
   "cell_type": "code",
   "execution_count": 2,
   "id": "948b1018",
   "metadata": {},
   "outputs": [],
   "source": [
    "df = pd.read_csv('train.csv')"
   ]
  },
  {
   "cell_type": "code",
   "execution_count": 3,
   "id": "39506d51",
   "metadata": {},
   "outputs": [
    {
     "data": {
      "text/plain": [
       "Index(['id', 'N_Days', 'Drug', 'Age', 'Sex', 'Ascites', 'Hepatomegaly',\n",
       "       'Spiders', 'Edema', 'Bilirubin', 'Cholesterol', 'Albumin', 'Copper',\n",
       "       'Alk_Phos', 'SGOT', 'Tryglicerides', 'Platelets', 'Prothrombin',\n",
       "       'Stage', 'Status'],\n",
       "      dtype='object')"
      ]
     },
     "execution_count": 3,
     "metadata": {},
     "output_type": "execute_result"
    }
   ],
   "source": [
    "df.columns"
   ]
  },
  {
   "cell_type": "code",
   "execution_count": 4,
   "id": "784352b4",
   "metadata": {},
   "outputs": [
    {
     "data": {
      "text/plain": [
       "array(['D', 'C', 'CL'], dtype=object)"
      ]
     },
     "execution_count": 4,
     "metadata": {},
     "output_type": "execute_result"
    }
   ],
   "source": [
    "df[\"Status\"].unique()"
   ]
  },
  {
   "cell_type": "code",
   "execution_count": 5,
   "id": "b0769987",
   "metadata": {},
   "outputs": [
    {
     "data": {
      "text/html": [
       "<div>\n",
       "<style scoped>\n",
       "    .dataframe tbody tr th:only-of-type {\n",
       "        vertical-align: middle;\n",
       "    }\n",
       "\n",
       "    .dataframe tbody tr th {\n",
       "        vertical-align: top;\n",
       "    }\n",
       "\n",
       "    .dataframe thead th {\n",
       "        text-align: right;\n",
       "    }\n",
       "</style>\n",
       "<table border=\"1\" class=\"dataframe\">\n",
       "  <thead>\n",
       "    <tr style=\"text-align: right;\">\n",
       "      <th></th>\n",
       "      <th>id</th>\n",
       "      <th>N_Days</th>\n",
       "      <th>Drug</th>\n",
       "      <th>Age</th>\n",
       "      <th>Sex</th>\n",
       "      <th>Ascites</th>\n",
       "      <th>Hepatomegaly</th>\n",
       "      <th>Spiders</th>\n",
       "      <th>Edema</th>\n",
       "      <th>Bilirubin</th>\n",
       "      <th>Cholesterol</th>\n",
       "      <th>Albumin</th>\n",
       "      <th>Copper</th>\n",
       "      <th>Alk_Phos</th>\n",
       "      <th>SGOT</th>\n",
       "      <th>Tryglicerides</th>\n",
       "      <th>Platelets</th>\n",
       "      <th>Prothrombin</th>\n",
       "      <th>Stage</th>\n",
       "      <th>Status</th>\n",
       "    </tr>\n",
       "  </thead>\n",
       "  <tbody>\n",
       "    <tr>\n",
       "      <th>5118</th>\n",
       "      <td>5118</td>\n",
       "      <td>3839</td>\n",
       "      <td>Placebo</td>\n",
       "      <td>20708</td>\n",
       "      <td>F</td>\n",
       "      <td>N</td>\n",
       "      <td>N</td>\n",
       "      <td>N</td>\n",
       "      <td>N</td>\n",
       "      <td>2.4</td>\n",
       "      <td>331.0</td>\n",
       "      <td>3.60</td>\n",
       "      <td>13.0</td>\n",
       "      <td>2108.0</td>\n",
       "      <td>128.65</td>\n",
       "      <td>99.0</td>\n",
       "      <td>332.0</td>\n",
       "      <td>11.1</td>\n",
       "      <td>2.0</td>\n",
       "      <td>D</td>\n",
       "    </tr>\n",
       "    <tr>\n",
       "      <th>2127</th>\n",
       "      <td>2127</td>\n",
       "      <td>2272</td>\n",
       "      <td>D-penicillamine</td>\n",
       "      <td>20104</td>\n",
       "      <td>F</td>\n",
       "      <td>N</td>\n",
       "      <td>Y</td>\n",
       "      <td>N</td>\n",
       "      <td>N</td>\n",
       "      <td>0.3</td>\n",
       "      <td>293.0</td>\n",
       "      <td>4.40</td>\n",
       "      <td>50.0</td>\n",
       "      <td>1556.0</td>\n",
       "      <td>125.55</td>\n",
       "      <td>103.0</td>\n",
       "      <td>146.0</td>\n",
       "      <td>10.9</td>\n",
       "      <td>3.0</td>\n",
       "      <td>C</td>\n",
       "    </tr>\n",
       "    <tr>\n",
       "      <th>3541</th>\n",
       "      <td>3541</td>\n",
       "      <td>1212</td>\n",
       "      <td>D-penicillamine</td>\n",
       "      <td>12897</td>\n",
       "      <td>F</td>\n",
       "      <td>N</td>\n",
       "      <td>N</td>\n",
       "      <td>N</td>\n",
       "      <td>N</td>\n",
       "      <td>1.0</td>\n",
       "      <td>416.0</td>\n",
       "      <td>3.48</td>\n",
       "      <td>79.0</td>\n",
       "      <td>976.0</td>\n",
       "      <td>89.90</td>\n",
       "      <td>219.0</td>\n",
       "      <td>283.0</td>\n",
       "      <td>9.8</td>\n",
       "      <td>2.0</td>\n",
       "      <td>C</td>\n",
       "    </tr>\n",
       "    <tr>\n",
       "      <th>4796</th>\n",
       "      <td>4796</td>\n",
       "      <td>124</td>\n",
       "      <td>Placebo</td>\n",
       "      <td>16714</td>\n",
       "      <td>F</td>\n",
       "      <td>Y</td>\n",
       "      <td>Y</td>\n",
       "      <td>Y</td>\n",
       "      <td>Y</td>\n",
       "      <td>2.5</td>\n",
       "      <td>178.0</td>\n",
       "      <td>3.67</td>\n",
       "      <td>225.0</td>\n",
       "      <td>754.0</td>\n",
       "      <td>180.60</td>\n",
       "      <td>200.0</td>\n",
       "      <td>119.0</td>\n",
       "      <td>12.0</td>\n",
       "      <td>4.0</td>\n",
       "      <td>D</td>\n",
       "    </tr>\n",
       "    <tr>\n",
       "      <th>5322</th>\n",
       "      <td>5322</td>\n",
       "      <td>1080</td>\n",
       "      <td>Placebo</td>\n",
       "      <td>15037</td>\n",
       "      <td>F</td>\n",
       "      <td>N</td>\n",
       "      <td>N</td>\n",
       "      <td>N</td>\n",
       "      <td>N</td>\n",
       "      <td>18.0</td>\n",
       "      <td>1276.0</td>\n",
       "      <td>3.85</td>\n",
       "      <td>141.0</td>\n",
       "      <td>1204.0</td>\n",
       "      <td>203.05</td>\n",
       "      <td>157.0</td>\n",
       "      <td>362.0</td>\n",
       "      <td>10.5</td>\n",
       "      <td>3.0</td>\n",
       "      <td>D</td>\n",
       "    </tr>\n",
       "  </tbody>\n",
       "</table>\n",
       "</div>"
      ],
      "text/plain": [
       "        id  N_Days             Drug    Age Sex Ascites Hepatomegaly Spiders  \\\n",
       "5118  5118    3839          Placebo  20708   F       N            N       N   \n",
       "2127  2127    2272  D-penicillamine  20104   F       N            Y       N   \n",
       "3541  3541    1212  D-penicillamine  12897   F       N            N       N   \n",
       "4796  4796     124          Placebo  16714   F       Y            Y       Y   \n",
       "5322  5322    1080          Placebo  15037   F       N            N       N   \n",
       "\n",
       "     Edema  Bilirubin  Cholesterol  Albumin  Copper  Alk_Phos    SGOT  \\\n",
       "5118     N        2.4        331.0     3.60    13.0    2108.0  128.65   \n",
       "2127     N        0.3        293.0     4.40    50.0    1556.0  125.55   \n",
       "3541     N        1.0        416.0     3.48    79.0     976.0   89.90   \n",
       "4796     Y        2.5        178.0     3.67   225.0     754.0  180.60   \n",
       "5322     N       18.0       1276.0     3.85   141.0    1204.0  203.05   \n",
       "\n",
       "      Tryglicerides  Platelets  Prothrombin  Stage Status  \n",
       "5118           99.0      332.0         11.1    2.0      D  \n",
       "2127          103.0      146.0         10.9    3.0      C  \n",
       "3541          219.0      283.0          9.8    2.0      C  \n",
       "4796          200.0      119.0         12.0    4.0      D  \n",
       "5322          157.0      362.0         10.5    3.0      D  "
      ]
     },
     "execution_count": 5,
     "metadata": {},
     "output_type": "execute_result"
    }
   ],
   "source": [
    "df.sample(5)"
   ]
  },
  {
   "cell_type": "code",
   "execution_count": 6,
   "id": "a09a4145",
   "metadata": {},
   "outputs": [
    {
     "name": "stdout",
     "output_type": "stream",
     "text": [
      "<class 'pandas.core.frame.DataFrame'>\n",
      "RangeIndex: 7905 entries, 0 to 7904\n",
      "Data columns (total 20 columns):\n",
      " #   Column         Non-Null Count  Dtype  \n",
      "---  ------         --------------  -----  \n",
      " 0   id             7905 non-null   int64  \n",
      " 1   N_Days         7905 non-null   int64  \n",
      " 2   Drug           7905 non-null   object \n",
      " 3   Age            7905 non-null   int64  \n",
      " 4   Sex            7905 non-null   object \n",
      " 5   Ascites        7905 non-null   object \n",
      " 6   Hepatomegaly   7905 non-null   object \n",
      " 7   Spiders        7905 non-null   object \n",
      " 8   Edema          7905 non-null   object \n",
      " 9   Bilirubin      7905 non-null   float64\n",
      " 10  Cholesterol    7905 non-null   float64\n",
      " 11  Albumin        7905 non-null   float64\n",
      " 12  Copper         7905 non-null   float64\n",
      " 13  Alk_Phos       7905 non-null   float64\n",
      " 14  SGOT           7905 non-null   float64\n",
      " 15  Tryglicerides  7905 non-null   float64\n",
      " 16  Platelets      7905 non-null   float64\n",
      " 17  Prothrombin    7905 non-null   float64\n",
      " 18  Stage          7905 non-null   float64\n",
      " 19  Status         7905 non-null   object \n",
      "dtypes: float64(10), int64(3), object(7)\n",
      "memory usage: 1.2+ MB\n"
     ]
    }
   ],
   "source": [
    "df.info()"
   ]
  },
  {
   "cell_type": "code",
   "execution_count": 7,
   "id": "e484d257",
   "metadata": {},
   "outputs": [
    {
     "data": {
      "text/plain": [
       "array(['D-penicillamine', 'Placebo'], dtype=object)"
      ]
     },
     "execution_count": 7,
     "metadata": {},
     "output_type": "execute_result"
    }
   ],
   "source": [
    "df[\"Drug\"].unique()"
   ]
  },
  {
   "cell_type": "code",
   "execution_count": 8,
   "id": "3373f5b8",
   "metadata": {},
   "outputs": [
    {
     "data": {
      "text/plain": [
       "count     7905.000000\n",
       "mean     18373.146490\n",
       "std       3679.958739\n",
       "min       9598.000000\n",
       "25%      15574.000000\n",
       "50%      18713.000000\n",
       "75%      20684.000000\n",
       "max      28650.000000\n",
       "Name: Age, dtype: float64"
      ]
     },
     "execution_count": 8,
     "metadata": {},
     "output_type": "execute_result"
    }
   ],
   "source": [
    "df[\"Age\"].describe()"
   ]
  },
  {
   "cell_type": "code",
   "execution_count": 9,
   "id": "99dc70f9",
   "metadata": {},
   "outputs": [
    {
     "data": {
      "text/plain": [
       "<seaborn.axisgrid.FacetGrid at 0x7fe4b6dfb880>"
      ]
     },
     "execution_count": 9,
     "metadata": {},
     "output_type": "execute_result"
    },
    {
     "data": {
      "image/png": "[encoded data removed]",
      "text/plain": [
       "<Figure size 360x360 with 1 Axes>"
      ]
     },
     "metadata": {
      "needs_background": "light"
     },
     "output_type": "display_data"
    }
   ],
   "source": [
    "sns.displot(df, x=\"Age\")"
   ]
  },
  {
   "cell_type": "markdown",
   "id": "ec08fdbe",
   "metadata": {},
   "source": [
    "### Cleaning"
   ]
  },
  {
   "cell_type": "code",
   "execution_count": 10,
   "id": "c70dfedc",
   "metadata": {},
   "outputs": [],
   "source": [
    "def update(df):\n",
    "    df_update = df.copy(deep=True)\n",
    "    df_update.drop([\"id\"], axis=1, inplace=True)\n",
    "    df_update[\"Drug\"] = df_update[\"Drug\"].apply(lambda x: 1 if x == \"Placebo\" else 0)\n",
    "    df_update[\"Sex\"] = df_update[\"Sex\"].apply(lambda x: 1 if x == \"M\" else 0)\n",
    "    df_update[\"Ascites\"] = df_update[\"Ascites\"].apply(lambda x: 1 if x == \"N\" else 0)\n",
    "    df_update[\"Hepatomegaly\"] = df_update[\"Hepatomegaly\"].apply(lambda x: 1 if x == \"N\" else 0)\n",
    "    df_update[\"Spiders\"] = df_update[\"Spiders\"].apply(lambda x: 1 if x == \"N\" else 0)\n",
    "    df_update[\"Edema\"] = df_update[\"Edema\"].apply(lambda x: 1 if x == \"N\" else 0)\n",
    "    if \"Status\" in df.columns: df_update[\"Status\"] = df_update[\"Status\"].apply(lambda x: 2 if x == \"D\" else (1 if x == \"C\" else 0))\n",
    "    return df_update"
   ]
  },
  {
   "cell_type": "code",
   "execution_count": 11,
   "id": "8176f83c",
   "metadata": {},
   "outputs": [],
   "source": [
    "df_update = update(df)\n",
    "data = np.array(df_update.loc[:, df_update.columns != 'Status'])\n",
    "target = np.array(df_update['Status'])"
   ]
  },
  {
   "cell_type": "markdown",
   "id": "f9366283",
   "metadata": {},
   "source": [
    "### Prediction"
   ]
  },
  {
   "cell_type": "code",
   "execution_count": 12,
   "id": "f2500c9b",
   "metadata": {},
   "outputs": [],
   "source": [
    "X_train, X_test, y_train, y_test = train_test_split(data, target, test_size=.2)"
   ]
  },
  {
   "cell_type": "code",
   "execution_count": 13,
   "id": "efea434f",
   "metadata": {},
   "outputs": [],
   "source": [
    "bst = XGBClassifier(n_estimators=2, max_depth=2, learning_rate=1, objective='binary:logistic')"
   ]
  },
  {
   "cell_type": "code",
   "execution_count": 14,
   "id": "c7f23048",
   "metadata": {},
   "outputs": [
    {
     "data": {
      "text/plain": [
       "XGBClassifier(base_score=None, booster=None, callbacks=None,\n",
       "              colsample_bylevel=None, colsample_bynode=None,\n",
       "              colsample_bytree=None, early_stopping_rounds=None,\n",
       "              enable_categorical=False, eval_metric=None, feature_types=None,\n",
       "              gamma=None, gpu_id=None, grow_policy=None, importance_type=None,\n",
       "              interaction_constraints=None, learning_rate=1, max_bin=None,\n",
       "              max_cat_threshold=None, max_cat_to_onehot=None,\n",
       "              max_delta_step=None, max_depth=2, max_leaves=None,\n",
       "              min_child_weight=None, missing=nan, monotone_constraints=None,\n",
       "              n_estimators=2, n_jobs=None, num_parallel_tree=None,\n",
       "              objective='multi:softprob', predictor=None, ...)"
      ]
     },
     "execution_count": 14,
     "metadata": {},
     "output_type": "execute_result"
    }
   ],
   "source": [
    "bst.fit(X_train, y_train)"
   ]
  },
  {
   "cell_type": "code",
   "execution_count": 15,
   "id": "1faec6ee",
   "metadata": {},
   "outputs": [],
   "source": [
    "def loss(y_true, pred):\n",
    "    return log_loss(y_true, pred, labels=[0, 1, 2])"
   ]
  },
  {
   "cell_type": "code",
   "execution_count": 16,
   "id": "4f77380c",
   "metadata": {},
   "outputs": [],
   "source": [
    "preds = bst.predict_proba(X_test)"
   ]
  },
  {
   "cell_type": "code",
   "execution_count": 17,
   "id": "a634793d",
   "metadata": {},
   "outputs": [
    {
     "name": "stdout",
     "output_type": "stream",
     "text": [
      "[[0.04722162 0.88279223 0.06998612]\n",
      " [0.11477692 0.46023673 0.42498636]\n",
      " [0.04721108 0.882802   0.06998689]\n",
      " ...\n",
      " [0.07951571 0.83233577 0.08814854]\n",
      " [0.06872661 0.73122734 0.200046  ]\n",
      " [0.04722162 0.88279223 0.06998612]]\n",
      "[1 1 1 ... 1 1 1]\n"
     ]
    },
    {
     "data": {
      "text/plain": [
       "0.5431798434828672"
      ]
     },
     "execution_count": 17,
     "metadata": {},
     "output_type": "execute_result"
    }
   ],
   "source": [
    "print(preds)\n",
    "print(y_test)\n",
    "loss(y_test, preds)"
   ]
  },
  {
   "cell_type": "markdown",
   "id": "a3531414",
   "metadata": {},
   "source": [
    "### Test Data"
   ]
  },
  {
   "cell_type": "code",
   "execution_count": 18,
   "id": "bfcddbda",
   "metadata": {},
   "outputs": [],
   "source": [
    "df_test = pd.read_csv(\"test.csv\")\n",
    "df_test_update = update(df_test)"
   ]
  },
  {
   "cell_type": "code",
   "execution_count": 19,
   "id": "34f9e41b",
   "metadata": {},
   "outputs": [],
   "source": [
    "preds = bst.predict_proba(np.array(df_test_update))"
   ]
  },
  {
   "cell_type": "code",
   "execution_count": 20,
   "id": "0802214e",
   "metadata": {},
   "outputs": [],
   "source": [
    "df_out = pd.DataFrame()\n",
    "df_out[\"id\"] = df_test[\"id\"]\n",
    "df_out[\"Status_C\"] = preds[:,1].tolist()\n",
    "df_out[\"Status_CL\"] = preds[:,0].tolist()\n",
    "df_out[\"Status_D\"] = preds[:,2].tolist()"
   ]
  },
  {
   "cell_type": "code",
   "execution_count": 21,
   "id": "ae66bbb8",
   "metadata": {},
   "outputs": [],
   "source": [
    "df_out.to_csv(\"submission2.csv\", index=False)"
   ]
  }
 ],
 "metadata": {
  "kernelspec": {
   "display_name": "Python 3 (ipykernel)",
   "language": "python",
   "name": "python3"
  },
  "language_info": {
   "codemirror_mode": {
    "name": "ipython",
    "version": 3
   },
   "file_extension": ".py",
   "mimetype": "text/x-python",
   "name": "python",
   "nbconvert_exporter": "python",
   "pygments_lexer": "ipython3",
   "version": "3.9.7"
  }
 },
 "nbformat": 4,
 "nbformat_minor": 5
}
